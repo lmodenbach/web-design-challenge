{
 "cells": [
  {
   "cell_type": "code",
   "execution_count": 1,
   "metadata": {},
   "outputs": [],
   "source": [
    "# Analysis of factors affecting success in securing a date during speed dating: \n",
    "#  - expectation of happiness with other participants (bar vs avg date achieved)\n",
    "#  - expectation of others being interested in subject (line plot vs avg date achieved)\n",
    "#  - frequency of dates on a normal basis (reverse numbering, bar of avg of date achieved)\n",
    "#  - primary goal in participation (bar of avg of date achieved by category)\n",
    "# date_3: if date achieved\n",
    "# expnum: how many people subject expects to be interested in self - % of potentials\n",
    "# exphappy: expected happiness (1-10) with people subject will meet\n",
    "# date: how frequently (1-7) subject goes on dates - invert original scale\n",
    "# goal: why subject is participating\n",
    "# converted csv without UTF-8 encoding to xlsx to pre-edit, also to create a macro to assist me\n",
    "\n",
    "# separate by wave with a macro, read, get metrics by person, rejoin, analyze/visualize"
   ]
  },
  {
   "cell_type": "code",
   "execution_count": 2,
   "metadata": {},
   "outputs": [],
   "source": [
    "# necessary imports\n",
    "import pandas as pd\n",
    "import matplotlib.pyplot as plt\n",
    "import scipy.stats as stats"
   ]
  },
  {
   "cell_type": "code",
   "execution_count": 16,
   "metadata": {},
   "outputs": [
    {
     "data": {
      "text/html": [
       "<div>\n",
       "<style scoped>\n",
       "    .dataframe tbody tr th:only-of-type {\n",
       "        vertical-align: middle;\n",
       "    }\n",
       "\n",
       "    .dataframe tbody tr th {\n",
       "        vertical-align: top;\n",
       "    }\n",
       "\n",
       "    .dataframe thead th {\n",
       "        text-align: right;\n",
       "    }\n",
       "</style>\n",
       "<table border=\"1\" class=\"dataframe\">\n",
       "  <thead>\n",
       "    <tr style=\"text-align: right;\">\n",
       "      <th></th>\n",
       "      <th>iid</th>\n",
       "      <th>date_3</th>\n",
       "      <th>expnum</th>\n",
       "      <th>exphappy</th>\n",
       "      <th>datefreq</th>\n",
       "      <th>goal</th>\n",
       "      <th>expnumPercent</th>\n",
       "    </tr>\n",
       "  </thead>\n",
       "  <tbody>\n",
       "    <tr>\n",
       "      <th>0</th>\n",
       "      <td>1</td>\n",
       "      <td>0</td>\n",
       "      <td>2</td>\n",
       "      <td>3</td>\n",
       "      <td>7</td>\n",
       "      <td>2</td>\n",
       "      <td>20.0</td>\n",
       "    </tr>\n",
       "    <tr>\n",
       "      <th>10</th>\n",
       "      <td>2</td>\n",
       "      <td>0</td>\n",
       "      <td>5</td>\n",
       "      <td>4</td>\n",
       "      <td>5</td>\n",
       "      <td>1</td>\n",
       "      <td>50.0</td>\n",
       "    </tr>\n",
       "    <tr>\n",
       "      <th>30</th>\n",
       "      <td>4</td>\n",
       "      <td>0</td>\n",
       "      <td>2</td>\n",
       "      <td>1</td>\n",
       "      <td>5</td>\n",
       "      <td>1</td>\n",
       "      <td>20.0</td>\n",
       "    </tr>\n",
       "    <tr>\n",
       "      <th>40</th>\n",
       "      <td>5</td>\n",
       "      <td>0</td>\n",
       "      <td>10</td>\n",
       "      <td>7</td>\n",
       "      <td>4</td>\n",
       "      <td>2</td>\n",
       "      <td>100.0</td>\n",
       "    </tr>\n",
       "  </tbody>\n",
       "</table>\n",
       "</div>"
      ],
      "text/plain": [
       "    iid  date_3  expnum  exphappy  datefreq  goal  expnumPercent\n",
       "0     1       0       2         3         7     2           20.0\n",
       "10    2       0       5         4         5     1           50.0\n",
       "30    4       0       2         1         5     1           20.0\n",
       "40    5       0      10         7         4     2          100.0"
      ]
     },
     "execution_count": 16,
     "metadata": {},
     "output_type": "execute_result"
    }
   ],
   "source": [
    "wave1_df = pd.DataFrame(pd.read_excel(\"Resources/SpeedDatingData.xlsm\", \"Wave 1\"))\n",
    "wave1_df.drop_duplicates(inplace=True)\n",
    "wave1_df[\"expnumPercent\"] = (wave1_df[\"expnum\"]/wave1_df[\"iid\"].count())*100\n",
    "wave1_df = wave1_df[wave1_df.date_3 != 999]\n",
    "wave1_df.head(10)"
   ]
  },
  {
   "cell_type": "code",
   "execution_count": null,
   "metadata": {},
   "outputs": [],
   "source": [
    "wave2_df = pd.DataFrame(pd.read_excel(\"Resources/SpeedDatingData.xlsm\", \"Wave 2\"))\n",
    "wave2_df.drop_duplicates(inplace=True)\n",
    "wave2_df[\"expnumPercent\"] = (wave2_df[\"expnum\"]/wave2_df[\"iid\"].count())*100\n",
    "wave2_df = wave1_df[wave2_df.date_3 != 999]\n",
    "wave2_df.head(10)"
   ]
  }
 ],
 "metadata": {
  "kernelspec": {
   "display_name": "Python 3",
   "language": "python",
   "name": "python3"
  },
  "language_info": {
   "codemirror_mode": {
    "name": "ipython",
    "version": 3
   },
   "file_extension": ".py",
   "mimetype": "text/x-python",
   "name": "python",
   "nbconvert_exporter": "python",
   "pygments_lexer": "ipython3",
   "version": "3.8.5"
  }
 },
 "nbformat": 4,
 "nbformat_minor": 4
}
